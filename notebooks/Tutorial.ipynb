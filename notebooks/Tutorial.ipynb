{
  "cells": [
    {
      "cell_type": "markdown",
      "metadata": {
        "id": "39_Au09iXjUW"
      },
      "source": [
        "# **BEYOND DYNAMIC PROGRAMMING PAPER EXPLAINED:**"
      ]
    },
    {
      "cell_type": "markdown",
      "metadata": {
        "id": "2wywLDG8ZYuY"
      },
      "source": [
        "This notebook presents monte carlo experiments, algorithms covered in the paper titled: \"Beyond Dynamic Programming\""
      ]
    },
    {
      "cell_type": "markdown",
      "metadata": {
        "id": "t92GCMtoZqAW"
      },
      "source": [
        "**THE CORE IDEA:**\n",
        "The central concept of traditional reinforcement learning is to create a policy function that maps states to actions, and a stage cost function that is specific to the task at hand. An optimization problem is then formulated to determine the optimal policy and value function. However, this approach is limited to stationary policies, where the policy network is trained before the task execution, and its parameters are fixed during execution.\n",
        "\n",
        "\n",
        "The central idea of bdp paper is that we can represent action sequences using real numbers and formulate an optimization problem to directly compute infinite horizon action sequence.\n",
        "\n",
        "By utilizing this method, the BDP paper suggests that it is possible to achieve better performance in reinforcement learning problems, particularly in cases where the optimal policy is non-stationary. This approach opens up new possibilities for solving complex reinforcement learning problems that were previously difficult to address with traditional methods.\n",
        "\n",
        "------\n",
        "We call the function that maps action sequences to infinite horizon cost as the Score life function.\n",
        "\n",
        "If the infinite horizon cost function is additive, then the Score life function obeys the following recursive equation:\n",
        "\n",
        "---\n",
        "\\begin{equation}\n",
        "    S(l,x) = g(x,a_i) + \\gamma S(l',f(x,a_i))\n",
        "\\end{equation}\n",
        "Where $g(x,a_i)$ is the stage cost/ instantaneous reward function, $l'$  is the life value (or the real number representing action sequence taken) from the next state  $f(x,a_i)$."
      ]
    },
    {
      "cell_type": "markdown",
      "metadata": {
        "id": "NeTJqwuCdINb"
      },
      "source": [
        "**DIFFERENT WAYS TO THINK ABOUT THE SCORE-LIFE FUNCTION:**\n",
        "\n",
        "\n",
        "\n",
        "1.   Extension of Q learning to action sequences\n",
        "2.   Number theoretic solution to optimal control problems\n",
        "3.   Construction of vector space for action sequences - to simplify optimal control problems.\n",
        "\n"
      ]
    },
    {
      "cell_type": "markdown",
      "metadata": {
        "id": "Fls8zkQidpNa"
      },
      "source": [
        "Perhaps the most intuitive way to think about Score-life function is to consider the following extension to the Q learning method.\n",
        "\n",
        "The typical Q function is defined as a function of state $s$ and instantaneous action $a$. ($Q_{\\pi}(s,a)$.\n",
        "Now let's construct Q function for action sequences:\n",
        "\n",
        "*   Q function with an action horizon of 2:  $Q_{\\pi}(s,{a_0,a_1})$\n",
        "*   Q function with an action horizon of 3:  $Q_{\\pi}(s,{a_0,a_1,a_2})$\n",
        "*   Q function with an action horizon of k:  $Q_{\\pi}(s,{a_0,a_1,a_2,..a_{k-1}}\n",
        ")$\n",
        "*   Q function with an action horizon of $\\infty$: $Q_{}(s,{a_0,a_1,a_2,..a_{\\infty}}\n",
        ")$\n",
        "\n",
        "\n",
        "\n",
        "\n"
      ]
    },
    {
      "cell_type": "markdown",
      "metadata": {
        "id": "qER20c5DfbYc"
      },
      "source": [
        "Now note one thing: when we extend Q function to infinite horizon action sequences, we do not technically need the policy function. The Score life function is precisely a Q function defined for infinite horizon action sequences. In this formulation, the policy function is not needed because we know an infinite sequence of actions to take, from any state."
      ]
    },
    {
      "cell_type": "markdown",
      "metadata": {
        "id": "MSidbIDnf3w0"
      },
      "source": [
        "The central idea of the Score-life programming method is to represent the action sequences using real numbers. Real numbers, technically is an infinite sequences of digits, so it is technically valid to use real numbers for representing infinite horizon action sequences.\n"
      ]
    },
    {
      "cell_type": "markdown",
      "metadata": {
        "id": "16MkUX-yj_aP"
      },
      "source": [
        "Note that the Score-life function need not be continouos or differentiable."
      ]
    },
    {
      "cell_type": "markdown",
      "metadata": {
        "id": "jbo_-6E7gR3m"
      },
      "source": [
        "**MONTE CARLO SIMULATION:**\n",
        "\n",
        "Now let's try to compute the Score-life function for the cart-pole dynamical system using monte carlo sampling. As stage cost, we use the LQR cost $x^{T} Q x$"
      ]
    },
    {
      "cell_type": "code",
      "execution_count": null,
      "metadata": {
        "colab": {
          "base_uri": "https://localhost:8080/"
        },
        "id": "92VBK2zXZK7J",
        "outputId": "0b6c36c8-5256-4ff6-8c6a-9cecad841e6a"
      },
      "outputs": [
        {
          "name": "stderr",
          "output_type": "stream",
          "text": [
            "/usr/local/lib/python3.10/dist-packages/ipykernel/ipkernel.py:283: DeprecationWarning: `should_run_async` will not call `transform_cell` automatically in the future. Please pass the result to `transformed_cell` argument and any exception that happen during thetransform in `preprocessing_exc_tuple` in IPython 7.17 and above.\n",
            "  and should_run_async(code)\n"
          ]
        },
        {
          "name": "stdout",
          "output_type": "stream",
          "text": [
            "Cloning into 'Beyond_Dynamic_Programming'...\n",
            "remote: Enumerating objects: 27, done.\u001b[K\n",
            "remote: Counting objects: 100% (27/27), done.\u001b[K\n",
            "remote: Compressing objects: 100% (20/20), done.\u001b[K\n",
            "remote: Total 27 (delta 8), reused 16 (delta 4), pack-reused 0\u001b[K\n",
            "Unpacking objects: 100% (27/27), 321.93 KiB | 3.74 MiB/s, done.\n"
          ]
        }
      ],
      "source": [
        "# !git clone https://github.com/Abhinav-Muraleedharan/Beyond_Dynamic_Programming.git\n"
      ]
    },
    {
      "cell_type": "code",
      "execution_count": null,
      "metadata": {
        "colab": {
          "base_uri": "https://localhost:8080/"
        },
        "id": "nc_OW-pRZhVE",
        "outputId": "74214617-3324-4a31-cfc0-de36f61e29e7"
      },
      "outputs": [
        {
          "name": "stdout",
          "output_type": "stream",
          "text": [
            "/content/Beyond_Dynamic_Programming\n"
          ]
        },
        {
          "name": "stderr",
          "output_type": "stream",
          "text": [
            "/usr/local/lib/python3.10/dist-packages/ipykernel/ipkernel.py:283: DeprecationWarning: `should_run_async` will not call `transform_cell` automatically in the future. Please pass the result to `transformed_cell` argument and any exception that happen during thetransform in `preprocessing_exc_tuple` in IPython 7.17 and above.\n",
            "  and should_run_async(code)\n"
          ]
        }
      ],
      "source": [
        "# %cd Beyond_Dynamic_Programming/"
      ]
    },
    {
      "cell_type": "code",
      "execution_count": null,
      "metadata": {
        "colab": {
          "base_uri": "https://localhost:8080/",
          "height": 222
        },
        "id": "M1m7ZYRYZlF9",
        "outputId": "90e9be75-2403-45f2-d807-d2a21d191965"
      },
      "outputs": [
        {
          "ename": "NameError",
          "evalue": "ignored",
          "output_type": "error",
          "traceback": [
            "\u001b[0;31m---------------------------------------------------------------------------\u001b[0m",
            "\u001b[0;31mNameError\u001b[0m                                 Traceback (most recent call last)",
            "\u001b[0;32m<ipython-input-3-9a3574eae39c>\u001b[0m in \u001b[0;36m<cell line: 3>\u001b[0;34m()\u001b[0m\n\u001b[1;32m      1\u001b[0m \u001b[0menv_name\u001b[0m \u001b[0;34m=\u001b[0m \u001b[0;34m\"CartPole-v1\"\u001b[0m\u001b[0;34m\u001b[0m\u001b[0;34m\u001b[0m\u001b[0m\n\u001b[1;32m      2\u001b[0m \u001b[0;31m#env = gym.make(env_name, render_mode=\"human\")\u001b[0m\u001b[0;34m\u001b[0m\u001b[0;34m\u001b[0m\u001b[0m\n\u001b[0;32m----> 3\u001b[0;31m \u001b[0menv\u001b[0m \u001b[0;34m=\u001b[0m \u001b[0mgym\u001b[0m\u001b[0;34m.\u001b[0m\u001b[0mmake\u001b[0m\u001b[0;34m(\u001b[0m\u001b[0menv_name\u001b[0m\u001b[0;34m)\u001b[0m\u001b[0;34m\u001b[0m\u001b[0;34m\u001b[0m\u001b[0m\n\u001b[0m\u001b[1;32m      4\u001b[0m \u001b[0menv_2\u001b[0m \u001b[0;34m=\u001b[0m \u001b[0mgym\u001b[0m\u001b[0;34m.\u001b[0m\u001b[0mmake\u001b[0m\u001b[0;34m(\u001b[0m\u001b[0;34m\"CartPole-v1\"\u001b[0m\u001b[0;34m,\u001b[0m \u001b[0mrender_mode\u001b[0m\u001b[0;34m=\u001b[0m\u001b[0;34m\"human\"\u001b[0m\u001b[0;34m)\u001b[0m\u001b[0;34m\u001b[0m\u001b[0;34m\u001b[0m\u001b[0m\n",
            "\u001b[0;31mNameError\u001b[0m: name 'gym' is not defined"
          ]
        }
      ],
      "source": [
        "# env_name = \"CartPole-v1\"\n",
        "# #env = gym.make(env_name, render_mode=\"human\")\n",
        "# env = gym.make(env_name)\n",
        "# env_2 = gym.make(\"CartPole-v1\", render_mode=\"human\")"
      ]
    },
    {
      "cell_type": "code",
      "execution_count": null,
      "metadata": {
        "id": "FO6Gme5Nh87u"
      },
      "outputs": [],
      "source": [
        "!apt-get install -y xvfb python-opengl > /dev/null 2>&1\n",
        "import random\n",
        "import copy\n",
        "from matplotlib import rc\n",
        "# Set the global font to be DejaVu Sans, size 10 (or any other sans-serif font of your choice!)\n",
        "rc('font',**{'family':'sans-serif','sans-serif':['DejaVu Sans'],'size':10})\n",
        "# Set the font used for MathJax - more on this later\n",
        "rc('mathtext',**{'default':'regular'})"
      ]
    },
    {
      "cell_type": "code",
      "execution_count": null,
      "metadata": {
        "colab": {
          "base_uri": "https://localhost:8080/"
        },
        "id": "fDlTTvwUiBY2",
        "outputId": "aeca443d-c489-4bb0-c383-cd4677df7f65"
      },
      "outputs": [
        {
          "name": "stdout",
          "output_type": "stream",
          "text": [
            "Looking in indexes: https://pypi.org/simple, https://us-python.pkg.dev/colab-wheels/public/simple/\n",
            "Requirement already satisfied: gymnasium in /usr/local/lib/python3.10/dist-packages (0.28.1)\n",
            "Requirement already satisfied: numpy>=1.21.0 in /usr/local/lib/python3.10/dist-packages (from gymnasium) (1.22.4)\n",
            "Requirement already satisfied: jax-jumpy>=1.0.0 in /usr/local/lib/python3.10/dist-packages (from gymnasium) (1.0.0)\n",
            "Requirement already satisfied: cloudpickle>=1.2.0 in /usr/local/lib/python3.10/dist-packages (from gymnasium) (2.2.1)\n",
            "Requirement already satisfied: typing-extensions>=4.3.0 in /usr/local/lib/python3.10/dist-packages (from gymnasium) (4.6.3)\n",
            "Requirement already satisfied: farama-notifications>=0.0.1 in /usr/local/lib/python3.10/dist-packages (from gymnasium) (0.0.4)\n"
          ]
        }
      ],
      "source": [
        "!pip install gymnasium\n",
        "import matplotlib as mpl\n",
        "import seaborn as sns\n",
        "import scipy\n",
        "from scipy.stats import gaussian_kde\n",
        "from scipy.optimize import curve_fit"
      ]
    },
    {
      "cell_type": "code",
      "execution_count": null,
      "metadata": {
        "colab": {
          "base_uri": "https://localhost:8080/"
        },
        "id": "lhXkba1pxDv5",
        "outputId": "bc1b14fa-bb9b-4cfa-e974-a518701bebcf"
      },
      "outputs": [
        {
          "name": "stdout",
          "output_type": "stream",
          "text": [
            "Looking in indexes: https://pypi.org/simple, https://us-python.pkg.dev/colab-wheels/public/simple/\n",
            "Requirement already satisfied: gym in /usr/local/lib/python3.10/dist-packages (0.25.2)\n",
            "Requirement already satisfied: numpy>=1.18.0 in /usr/local/lib/python3.10/dist-packages (from gym) (1.22.4)\n",
            "Requirement already satisfied: cloudpickle>=1.2.0 in /usr/local/lib/python3.10/dist-packages (from gym) (2.2.1)\n",
            "Requirement already satisfied: gym-notices>=0.0.4 in /usr/local/lib/python3.10/dist-packages (from gym) (0.0.8)\n"
          ]
        }
      ],
      "source": [
        "!pip install gym\n",
        "import gym as gym_2"
      ]
    },
    {
      "cell_type": "code",
      "execution_count": null,
      "metadata": {
        "id": "Fi4G49I-gRhA"
      },
      "outputs": [],
      "source": [
        "import gymnasium as gym\n",
        "import numpy as np\n",
        "import matplotlib.pyplot as plt\n",
        "from IPython import display as ipythondisplay"
      ]
    },
    {
      "cell_type": "code",
      "execution_count": null,
      "metadata": {
        "colab": {
          "base_uri": "https://localhost:8080/"
        },
        "id": "qzfI8YjTeOjN",
        "outputId": "427bb598-d16d-4104-f734-255dae9b2a5c"
      },
      "outputs": [
        {
          "name": "stdout",
          "output_type": "stream",
          "text": [
            "Looking in indexes: https://pypi.org/simple, https://us-python.pkg.dev/colab-wheels/public/simple/\n",
            "Requirement already satisfied: gym in /usr/local/lib/python3.10/dist-packages (0.25.2)\n",
            "Requirement already satisfied: numpy>=1.18.0 in /usr/local/lib/python3.10/dist-packages (from gym) (1.22.4)\n",
            "Requirement already satisfied: cloudpickle>=1.2.0 in /usr/local/lib/python3.10/dist-packages (from gym) (2.2.1)\n",
            "Requirement already satisfied: gym-notices>=0.0.4 in /usr/local/lib/python3.10/dist-packages (from gym) (0.0.8)\n"
          ]
        }
      ],
      "source": []
    },
    {
      "cell_type": "code",
      "execution_count": null,
      "metadata": {
        "id": "gq95MbSBwQAZ"
      },
      "outputs": [],
      "source": []
    },
    {
      "cell_type": "markdown",
      "metadata": {
        "id": "Ta73AFvBjr1q"
      },
      "source": [
        "MONTE CARLO SIMULATION CODE:"
      ]
    },
    {
      "cell_type": "code",
      "execution_count": null,
      "metadata": {
        "id": "OhZNQPPCbXB9"
      },
      "outputs": [],
      "source": [
        "def monte_carlo(x0,Q,N_horizon,N_episodes,gamma,terminate_episode_whn_done):\n",
        "  env = gym.make(\"CartPole-v1\")\n",
        "  env.reset()\n",
        "  # gamma = 0.6\n",
        "  l = 0\n",
        "  R = 0\n",
        "  N = 2000\n",
        "  n = 0\n",
        "  R_array = np.empty(1)\n",
        "  l_array = np.empty(1)\n",
        "  while n < N_episodes:\n",
        "    n = n + 1\n",
        "  # initialize state:\n",
        "    env.reset()\n",
        "    # initial_state = np.array([[ 0.0, 0.0, 0, 0.0]])\n",
        "    initial_state_env = x0\n",
        "    initial_state = np.array([x0])\n",
        "\n",
        "    env.state = env.unwrapped.state = initial_state_env\n",
        "    # print(env.state)\n",
        "  # env.state = initial_state\n",
        "    l = 0 #initialize life value\n",
        "    R = 0 # initialize cumulative reward\n",
        "  # R = np.dot(initial_state,initial_state)\n",
        "    # print(initial_state)\n",
        "    R = (initial_state@Q@initial_state.T)[0][0]\n",
        "  # R = 0\n",
        "    for i in range(N_horizon):\n",
        "    # action = env.action_space.sample()\n",
        "    # state = env.state\n",
        "    # index = state_index(state)\n",
        "    # print(env.state)\n",
        "      action = env.action_space.sample()\n",
        "      l = l + (2**(-i-1))*action\n",
        "    # print(\"step i\",i,\"action=\",action)\n",
        "      obs, reward, done, truncated, info= env.step(action)\n",
        "      reward = obs@Q@obs\n",
        "      # reward = (obs@Q@obs.T)\n",
        "    # print(\"Observation\", obs)\n",
        "    # print(\"obs=\",obs,\"reward=\",reward,\"done=\",done,\"info=\",info)\n",
        "    # screen = env.render(mode='rgb_array')\n",
        "      R = (gamma**(i+1))*reward + R\n",
        "    # plt.imshow(screen)\n",
        "    # ipythondisplay.clear_output(wait=True)\n",
        "    # ipythondisplay.display(plt.gcf())\n",
        "      if terminate_episode_whn_done:\n",
        "        if done:\n",
        "          break\n",
        "    # print(Q[index[0]][index[1]][index[2]][index[3]][0])\n",
        "    R_array = np.append(R_array ,R)\n",
        "    l_array = np.append(l_array ,l)\n",
        "  # ipythondisplay.clear_output(wait=True)\n",
        "\n",
        "    # print(\"Iterations that were run:\",i)\n",
        "    # print(\"Reward in episode:\",R)\n",
        "    # print(\"Life Value:\",l)\n",
        "  env.close()\n",
        "  plt.scatter(l_array, R_array,s=0.1)\n",
        "# plt.plot(myline,(mymodel(myline)))\n",
        "# plt.ylim((0.1,3))\n",
        "  plt.xlabel('life (l)')\n",
        "  plt.ylabel('Score S(l)')\n",
        "  plt.show()\n",
        "  return l_array, R_array"
      ]
    },
    {
      "cell_type": "code",
      "execution_count": null,
      "metadata": {
        "id": "JxSaZaOLj6aN"
      },
      "outputs": [],
      "source": [
        "#initialize parameters (You may play around with these parameters to see how the fractal changes with different parameter values)\n",
        "q = [1,1,1,1]\n",
        "Q = np.diag(q)\n",
        "gamma = 0.5\n",
        "N_horizon = 100\n",
        "N_episodes = 2000"
      ]
    },
    {
      "cell_type": "code",
      "execution_count": null,
      "metadata": {
        "id": "ZHS6bKWnkaIK"
      },
      "outputs": [],
      "source": [
        "initial_state = [0,0,0,0]"
      ]
    },
    {
      "cell_type": "markdown",
      "metadata": {
        "id": "VvCi_ECKk9XU"
      },
      "source": [
        "We conduct monte carlo simulations:"
      ]
    },
    {
      "cell_type": "code",
      "execution_count": null,
      "metadata": {
        "colab": {
          "base_uri": "https://localhost:8080/",
          "height": 505
        },
        "id": "ZPiEw-3xkeXh",
        "outputId": "201fcf6e-b2ef-419a-c93c-5b675388cca2"
      },
      "outputs": [
        {
          "name": "stderr",
          "output_type": "stream",
          "text": [
            "/usr/local/lib/python3.10/dist-packages/gymnasium/envs/classic_control/cartpole.py:180: UserWarning: \u001b[33mWARN: You are calling 'step()' even though this environment has already returned terminated = True. You should always call 'reset()' once you receive 'terminated = True' -- any further steps are undefined behavior.\u001b[0m\n",
            "  logger.warn(\n"
          ]
        },
        {
          "data": {
            "image/png": "[encoded data removed]",
            "text/plain": [
              "<Figure size 640x480 with 1 Axes>"
            ]
          },
          "metadata": {},
          "output_type": "display_data"
        }
      ],
      "source": [
        "l_array_0, R_array_0 = monte_carlo(initial_state,Q,N_horizon,N_episodes,gamma,terminate_episode_whn_done = False)"
      ]
    },
    {
      "cell_type": "code",
      "execution_count": null,
      "metadata": {
        "colab": {
          "base_uri": "https://localhost:8080/",
          "height": 449
        },
        "id": "3rKCKY_ymZCX",
        "outputId": "86e837ee-04dd-4bb1-cef1-792d2b3c305d"
      },
      "outputs": [
        {
          "data": {
            "image/png": "[encoded data removed]",
            "text/plain": [
              "<Figure size 640x480 with 1 Axes>"
            ]
          },
          "metadata": {},
          "output_type": "display_data"
        }
      ],
      "source": [
        "l_array_0, R_array_0 = monte_carlo(initial_state,Q,N_horizon,N_episodes,gamma,terminate_episode_whn_done = True)"
      ]
    },
    {
      "cell_type": "markdown",
      "metadata": {
        "id": "0BT4mvS1k6l-"
      },
      "source": [
        "That's a beautiful fractal curve. It's an inverted takagi landsberg fractal. Recall that the minima of this function, $l^*$ represents the optimal infinite horizon action sequence taken from the state x. Since we are at the origin state, the optimal action sequence in this case is to simply oscillate around the initial state (action inputs are +/- 10 N.)"
      ]
    },
    {
      "cell_type": "markdown",
      "metadata": {
        "id": "Nqg0KWAjl2wg"
      },
      "source": [
        "The minima of the takagi landsberg function is at 1/3 or 2/3 (see bdp paper for references).\n",
        "\n",
        " Now 1/3 corresponds to the action sequence: {0,1,0,1,0,....}\n",
        "\n",
        " And 2/3 corresponds to the action sequence: {1,0,1,0,1,....}"
      ]
    },
    {
      "cell_type": "markdown",
      "metadata": {
        "id": "3rKvI5sllNXC"
      },
      "source": [
        "This validates our intuition- the minima of the Score life function maps precisely to the optimal infinite horizon action sequence."
      ]
    },
    {
      "cell_type": "markdown",
      "metadata": {
        "id": "RCtoA22QmrQh"
      },
      "source": [
        "Now let's compute Score-life function of a different state, of the same dynamical system, same stage cost function. We apply action 0, reach another neighbouring state, and run monte carlo simulations to compute Score-life function"
      ]
    },
    {
      "cell_type": "code",
      "execution_count": null,
      "metadata": {
        "id": "I_6g32Q9m90A"
      },
      "outputs": [],
      "source": [
        "env2 = gym.make(\"CartPole-v1\")\n",
        "env2.reset()\n",
        "env2.state = env2.unwrapped.state = initial_state\n",
        "action = 0\n",
        "nxt_state_0, reward, done, truncated, info = env2.step(action)"
      ]
    },
    {
      "cell_type": "code",
      "execution_count": null,
      "metadata": {
        "colab": {
          "base_uri": "https://localhost:8080/",
          "height": 449
        },
        "id": "vvlAvY1Nm9xp",
        "outputId": "9b22bf48-3ad6-4550-f4fa-d1dc46f66717"
      },
      "outputs": [
        {
          "data": {
            "image/png": "[encoded data removed]",
            "text/plain": [
              "<Figure size 640x480 with 1 Axes>"
            ]
          },
          "metadata": {},
          "output_type": "display_data"
        }
      ],
      "source": [
        "l_array_1, R_array_1 = monte_carlo(nxt_state_0,Q,N_horizon,N_episodes,gamma,terminate_episode_whn_done = False)"
      ]
    },
    {
      "cell_type": "markdown",
      "metadata": {
        "id": "HNe6DVJNnPg1"
      },
      "source": [
        "Note one thing: this fractal function is very similar to the fractal function which we previously computed. It is precisely a coordinate transformation applied to the Score-life function of origin state.\n",
        "\n",
        "All Score life functions of a given dynamical system, are related by coordinate transfornations!!!"
      ]
    },
    {
      "cell_type": "markdown",
      "metadata": {
        "id": "EnXNNjVTnrKW"
      },
      "source": [
        "This is true, because the Score life function of cartpole dynamical system follows this recursive equation: (Theorem 1)\n",
        "\n",
        "\\begin{equation}\n",
        "    S(l,\\mathbb{X}) = g(\\mathbb{X},K^{-1}(\\lfloor2l\\rfloor)) + \\gamma S(\\{2l\\},f(\\mathbb{X},K^{-1}(\\lfloor2l\\rfloor)))\n",
        "\\end{equation}"
      ]
    },
    {
      "cell_type": "markdown",
      "metadata": {
        "id": "T_8M8TbOn96R"
      },
      "source": [
        "We can apply the same recursion equation to the state $f(x,a_i)$, the next state $f(f(x,a_i),a_k)$, and so on..."
      ]
    },
    {
      "cell_type": "markdown",
      "metadata": {
        "id": "B8caUJLVpwbT"
      },
      "source": [
        "We exploit this relation between score-life functions of different states to compute optimal action sequence from a given state $x$.\n",
        "\n",
        "The methods can be roughly classified into two:\n",
        "\n",
        "\n",
        "1.   Approximate Methods\n",
        "2.   Exact Methods\n",
        "\n",
        "In approximate methods, we represent approximate Score life function using polynomials, and then compute approximate values of infinite horizon cost from neighbouring states. Then, we choose actions that land us in the state with minimal cost-to go. See section 4 of the paper for a detailed description of approximate methods.\n",
        "\n",
        "In exact methods, we compute the exact Score-life function of a state $x$ and optimize the score-life function. A pair of dynamical system and stage cost function lead to a family of fractal functions, and in exact methods we need to compute closed form equations that represent the fractal. We represent fractal functions in Faber Schauder basis. Note that however, fractals are non- differentiable everywhere, hence gradient descent methods converge poorly for large family of fractal functions. Efficient optimization of Fractal functions is an open research problem.\n",
        "\n"
      ]
    },
    {
      "cell_type": "markdown",
      "metadata": {
        "id": "walXPzjlheaE"
      },
      "source": [
        "**APPROXIMATE SCORE-LIFE PROGRAMMING:**\n",
        "\n",
        "This section contains methods that use polynomial/quadratic approximations of the Score-life function for computing optimal action."
      ]
    },
    {
      "cell_type": "code",
      "execution_count": null,
      "metadata": {
        "id": "ZVLia1JrZQ_h"
      },
      "outputs": [],
      "source": [
        "#import all dependencies for openai gym\n",
        "!apt-get install -y xvfb python-opengl > /dev/null 2>&1\n",
        "import random\n",
        "import copy\n",
        "\n",
        "import numpy as np\n",
        "import matplotlib.pyplot as plt\n",
        "from IPython import display as ipythondisplay\n",
        "from pyvirtualdisplay import Display\n",
        "# display = Display(visible=0, size=(400, 300))\n",
        "# display.start()\n",
        "import scipy\n",
        "from scipy.linalg import block_diag"
      ]
    },
    {
      "cell_type": "code",
      "execution_count": null,
      "metadata": {
        "id": "6uW5dwU1ryJv"
      },
      "outputs": [],
      "source": [
        "global gamma, Q\n",
        "q = [2,1,8,1]\n",
        "Q = np.diag(q)\n",
        "gamma = 0.5\n",
        "J_val = 0\n",
        "J_array = []"
      ]
    },
    {
      "cell_type": "code",
      "execution_count": null,
      "metadata": {
        "id": "Gw7R7PxmcLXf"
      },
      "outputs": [],
      "source": [
        "###### helper functions:\n",
        "\n",
        "### define a quadratic Score-life function\n",
        "def quadratic_S(l, a, b, c):\n",
        "    return a *( l**2) + b * l + c\n",
        "#### define function to optimize quadratic Score-life function\n",
        "def optimize_quadratic(coefficients):\n",
        "    a = coefficients[0]\n",
        "    b = coefficients[1]\n",
        "    c = coefficients[2]\n",
        "    ###evaluate at 0\n",
        "    S_0 = quadratic_S(0,a,b,c)\n",
        "    ###evaluate at 1\n",
        "    S_1 = quadratic_S(1,a,b,c)\n",
        "    ###find minima,\n",
        "    l_optima = -b/(2*a)\n",
        "    if 0 <= l_optima <= 1:\n",
        "        S_optima = quadratic_S(l_optima,a,b,c)\n",
        "    else:\n",
        "        S_optima = 1e16\n",
        "    cost_to_go = min(S_0,S_1,S_optima)\n",
        "    return cost_to_go\n",
        "\n",
        "#### function to convert fraction to binary representation\n",
        "def fraction_to_binary(fraction, num_bits, M):\n",
        "    if fraction == 0:\n",
        "        return '.' + '0' * (num_bits - 1)\n",
        "    elif fraction == 1:\n",
        "        return  '.' + '1' * num_bits\n",
        "    else:\n",
        "        binary = ''\n",
        "        # Check if the fraction is less than 1\n",
        "        if fraction < 1:\n",
        "            binary += '.'\n",
        "        for i in range(num_bits):\n",
        "            fraction *= M\n",
        "            if fraction >= 1:\n",
        "                binary += '1'\n",
        "                fraction -= 1\n",
        "            else:\n",
        "                binary += '0'\n",
        "        return binary\n",
        "\n",
        "#### Function to estimate Score-life function at specific l-values\n",
        "def S(l,X,gamma,N,env):\n",
        "#    env = gym.make(\"CartPole-v0\")\n",
        "    env.reset()\n",
        "    M = env.action_space.n\n",
        "    R = 0\n",
        "    action_sequence = fraction_to_binary(l,N,M)\n",
        "#    print(action_sequence)\n",
        "    env.state = env.unwrapped.state = X\n",
        "    for i in range(len(action_sequence)-1):\n",
        "        action = int(action_sequence[i+1])\n",
        "        state, reward, terminated, truncated, info  = env.step(action)\n",
        "#        reward = custom_reward(state,action)\n",
        "        reward = -reward\n",
        "        R = (gamma**(i))*reward + R\n",
        "        if terminated == True:\n",
        "#            R = R +(gamma**(i))*100\n",
        "            break\n",
        "    env.close()\n",
        "    env.reset()\n",
        "    return R\n",
        "\n",
        "def evaluate_quadratic_score_life_function(state,n,N_horizon,gamma,env):\n",
        "    l = np.random.uniform(0, 1, n)\n",
        "    S_approx = []\n",
        "    for el in l:\n",
        "        S_val = S(el,state,gamma,N_horizon,env)\n",
        "        S_approx.append(S_val)\n",
        "    S_approx = np.array(S_approx)\n",
        "    popt, pcov = curve_fit(quadratic_S,l,S_approx)\n",
        "    a_opt, b_opt, c_opt = popt\n",
        "    return a_opt,b_opt,c_opt\n",
        "\n",
        "def plot_quadratic(a_opt,b_opt,c_opt):\n",
        "    l = np.linspace(0, 1, 100)\n",
        "    S_approx = quadratic_S(l,a_opt,b_opt,c_opt)\n",
        "    plt.plot(l,S_approx,color = 'red',label ='Approximate Score-life function')\n",
        "    plt.xlabel('l')\n",
        "    plt.ylabel('Approximate Score-life-function')\n",
        "    return plt\n",
        "\n",
        "def compute_cost_to_go(state,n,N,gamma,env):\n",
        "    a_opt,b_opt,c_opt = evaluate_quadratic_score_life_function(state,n,N,gamma,env)\n",
        "    coefficients_quad = [a_opt,b_opt,c_opt]\n",
        "    J = optimize_quadratic(coefficients_quad)\n",
        "    return J\n",
        "\n",
        "\n",
        "def compute_Q(state,env,n,N,gamma):\n",
        "    Q = []\n",
        "    for a in range(env.action_space.n):\n",
        "        env.state = env.unwrapped.state = state\n",
        "        next_state, reward, terminated, truncated, info = env.step(a)\n",
        "#        reward = custom_reward(observation,action)\n",
        "        J = compute_cost_to_go(next_state,n,N,gamma,env)\n",
        "#        reward = custom_reward(next_state,a)\n",
        "        reward = -reward\n",
        "        J =  reward + gamma*J\n",
        "        Q.append(J)\n",
        "    env.reset()\n",
        "    return Q\n"
      ]
    },
    {
      "cell_type": "code",
      "execution_count": null,
      "metadata": {
        "colab": {
          "base_uri": "https://localhost:8080/"
        },
        "id": "ZfDwtyjpdVDr",
        "outputId": "03c6a120-6f52-4396-ddb6-2ec36833336b"
      },
      "outputs": [
        {
          "name": "stderr",
          "output_type": "stream",
          "text": [
            "/usr/local/lib/python3.10/dist-packages/gym/core.py:317: DeprecationWarning: \u001b[33mWARN: Initializing wrapper in old step API which returns one bool instead of two. It is recommended to set `new_step_api=True` to use new step API. This will be the default behaviour in future.\u001b[0m\n",
            "  deprecation(\n",
            "/usr/local/lib/python3.10/dist-packages/gym/wrappers/step_api_compatibility.py:39: DeprecationWarning: \u001b[33mWARN: Initializing environment in old step API which returns one bool instead of two. It is recommended to set `new_step_api=True` to use new step API. This will be the default behaviour in future.\u001b[0m\n",
            "  deprecation(\n"
          ]
        }
      ],
      "source": [
        "env = gym.make(\"CartPole-v1\")\n",
        "env_2 = gym_2.make(\"CartPole-v1\")\n",
        "gamma = 0.8\n",
        "N = 200\n",
        "j_max = 10\n",
        "observation= env_2.reset()\n",
        "k = 0\n",
        "#N_action_horizon = 10\n",
        "n = 200\n",
        "### simulation::::\n",
        "x_array =[]\n",
        "x_dot_array = []\n",
        "theta_array = []\n",
        "theta_dot_array = []"
      ]
    },
    {
      "cell_type": "code",
      "execution_count": null,
      "metadata": {
        "colab": {
          "base_uri": "https://localhost:8080/"
        },
        "id": "3Oj5tZUcjiax",
        "outputId": "8907f6d2-5e1f-4ca9-a9a5-c2c9612b38e2"
      },
      "outputs": [
        {
          "name": "stdout",
          "output_type": "stream",
          "text": [
            "\r0% [Working]\r            \rHit:1 https://cloud.r-project.org/bin/linux/ubuntu focal-cran40/ InRelease\n",
            "\r0% [Connecting to archive.ubuntu.com] [Connecting to security.ubuntu.com] [Conn\r                                                                               \rHit:2 https://developer.download.nvidia.com/compute/cuda/repos/ubuntu2004/x86_64  InRelease\n",
            "Hit:3 http://ppa.launchpad.net/c2d4u.team/c2d4u4.0+/ubuntu focal InRelease\n",
            "Get:4 http://security.ubuntu.com/ubuntu focal-security InRelease [114 kB]\n",
            "Hit:5 http://archive.ubuntu.com/ubuntu focal InRelease\n",
            "Hit:6 http://archive.ubuntu.com/ubuntu focal-updates InRelease\n",
            "Hit:7 http://ppa.launchpad.net/cran/libgit2/ubuntu focal InRelease\n",
            "Get:8 http://archive.ubuntu.com/ubuntu focal-backports InRelease [108 kB]\n",
            "Hit:9 http://ppa.launchpad.net/deadsnakes/ppa/ubuntu focal InRelease\n",
            "Hit:10 http://ppa.launchpad.net/graphics-drivers/ppa/ubuntu focal InRelease\n",
            "Hit:11 http://ppa.launchpad.net/ubuntugis/ppa/ubuntu focal InRelease\n",
            "Fetched 222 kB in 3s (69.2 kB/s)\n",
            "Reading package lists... Done\n",
            "Reading package lists... Done\n",
            "Building dependency tree       \n",
            "Reading state information... Done\n",
            "xvfb is already the newest version (2:1.20.13-1ubuntu1~20.04.8).\n",
            "0 upgraded, 0 newly installed, 0 to remove and 14 not upgraded.\n",
            "Looking in indexes: https://pypi.org/simple, https://us-python.pkg.dev/colab-wheels/public/simple/\n",
            "Requirement already satisfied: pyvirtualdisplay in /usr/local/lib/python3.10/dist-packages (3.0)\n",
            "Looking in indexes: https://pypi.org/simple, https://us-python.pkg.dev/colab-wheels/public/simple/\n",
            "Requirement already satisfied: xvfbwrapper in /usr/local/lib/python3.10/dist-packages (0.2.9)\n"
          ]
        },
        {
          "data": {
            "text/plain": [
              "<pyvirtualdisplay.display.Display at 0x7f27e42c3ac0>"
            ]
          },
          "execution_count": 40,
          "metadata": {},
          "output_type": "execute_result"
        }
      ],
      "source": [
        "!apt-get update\n",
        "!apt-get install -y xvfb\n",
        "!pip install pyvirtualdisplay\n",
        "!pip install xvfbwrapper\n",
        "\n",
        "# import gym\n",
        "from pyvirtualdisplay import Display\n",
        "from xvfbwrapper import Xvfb\n",
        "import matplotlib.pyplot as plt\n",
        "\n",
        "# Start virtual display\n",
        "display = Display(visible=0, size=(1400, 900))\n",
        "display.start()"
      ]
    },
    {
      "cell_type": "code",
      "execution_count": null,
      "metadata": {
        "colab": {
          "background_save": true,
          "base_uri": "https://localhost:8080/",
          "height": 485
        },
        "id": "YrTL2yJ7cHvc",
        "outputId": "5b196332-cbe0-4221-c3a6-f37c8edff0ef"
      },
      "outputs": [
        {
          "data": {
            "image/png": "[encoded data removed]",
            "text/plain": [
              "<Figure size 640x480 with 1 Axes>"
            ]
          },
          "metadata": {},
          "output_type": "display_data"
        },
        {
          "name": "stdout",
          "output_type": "stream",
          "text": [
            "time steps: 97\n",
            "[-4.9791731457788, -4.93912519907715]\n",
            "action:\n",
            "0\n",
            "[ 0.1491743  -0.18291105 -0.00974834  0.03525549]\n"
          ]
        }
      ],
      "source": [
        "J_val = 0\n",
        "J_array = []\n",
        "# xvfb = Xvfb(width=1280, height=740)\n",
        "# xvfb.start()\n",
        "prev_screen = env_2.render(mode='rgb_array')\n",
        "plt.imshow(prev_screen)\n",
        "for i in range(1000):\n",
        "    #compute faber schauder coefficients:\n",
        "#    action = env.action_space.sample()\n",
        "    print(\"time steps:\",i)\n",
        "    env.reset()\n",
        "    Q = compute_Q(observation,env,n,N,gamma)\n",
        "    print(Q)\n",
        "    action = Q.index(min(Q))\n",
        "    print(\"action:\")\n",
        "    print(action)\n",
        "    observation, reward, terminated, info = env_2.step(action)\n",
        "    J_val = J_val + (gamma**i)*reward\n",
        "    J_array.append(J_val)\n",
        "    print(observation)\n",
        "    x_array.append(observation[0])\n",
        "    x_dot_array.append(observation[1])\n",
        "    theta_array.append(observation[2])\n",
        "    theta_dot_array.append(observation[3])\n",
        "    screen = env_2.render(mode = 'rgb_array')\n",
        "    # # Convert screen to numpy array\n",
        "    # screen_array = np.array(screen)\n",
        "    # # Convert to float32 data type\n",
        "    # screen_array = screen_array.astype(np.float32)\n",
        "    plt.imshow(screen)\n",
        "    ipythondisplay.clear_output(wait = True)\n",
        "    ipythondisplay.display(plt.gcf())\n",
        "    # env_2.render()\n",
        "    if terminated or truncated:\n",
        "        print(\"terminating...Iterations:\",i)\n",
        "        break\n",
        "        observation, info = env.reset()\n",
        "fig, ax = plt.subplots()\n",
        "ax.plot(x_array, label=f'Trajectory - x')\n",
        "ax.plot(x_dot_array, label=f'Trajectory  - x_dot')\n",
        "ax.plot(theta_array, label=f'Trajectory - theta')\n",
        "ax.plot(theta_dot_array, label=f'Trajectory  - theta_dot')\n",
        "ax.set_title('Simulation Trajectories')\n",
        "ax.set_xlabel('Time')\n",
        "ax.set_ylabel('Values')\n",
        "# Show legend\n",
        "ax.legend()\n",
        "# Display the plot\n",
        "plt.savefig(f'Simulation_results_approx_traj_plot.jpg', dpi=300)\n",
        "plt.show()\n",
        "fig, ax = plt.subplots()\n",
        "ax.plot(J_array, label=f'Cumulative Reward',color = 'red')\n",
        "#ax.plot(x_dot_array, label=f'Trajectory  - x_dot')\n",
        "#ax.plot(theta_array, label=f'Trajectory - theta')\n",
        "#ax.plot(theta_dot_array, label=f'Trajectory  - theta_dot')\n",
        "ax.set_title('Cumulative Reward vs timesteps')\n",
        "ax.set_xlabel('Timesteps')\n",
        "ax.set_ylabel('Cumulative Reward')\n",
        "# Show legend\n",
        "ax.legend()\n",
        "# Display the plot\n",
        "plt.savefig(f'Simulation_results_approx_reward_plot.jpg', dpi=300)\n",
        "plt.show()\n",
        "env.close()\n",
        "env_2.close()"
      ]
    },
    {
      "cell_type": "markdown",
      "metadata": {
        "id": "148gjdSBtQ_l"
      },
      "source": [
        "The approximate method does not achieve global stability, but still performs reasonably well when compared to classical value iteration methods which involve discretizing the state space."
      ]
    },
    {
      "cell_type": "markdown",
      "metadata": {
        "id": "EXedCk3Ntgvm"
      },
      "source": [
        "Now let's focus our attention onto the beast: Exact methods!\n",
        "\n",
        "Exact methods are tricky cause we have to compute the fractal equation and minimize it. Fractals, by definition are non-differentiable everywhere, hence we would have to use techniques from fractal literature/number theory to compute the minima of fractal equation.\n"
      ]
    },
    {
      "cell_type": "markdown",
      "metadata": {
        "id": "RK_Zw-lR2Oy6"
      },
      "source": [
        "For the cart pole dynamical system, with LQR stage cost, the equation of the Score-life function is given by"
      ]
    },
    {
      "cell_type": "markdown",
      "metadata": {
        "id": "je_b-5ye4S_7"
      },
      "source": []
    },
    {
      "cell_type": "markdown",
      "metadata": {
        "id": "TVtdXXd62hPI"
      },
      "source": [
        "\\begin{equation}\n",
        "   S(l,x) = \\alpha(x) + \\beta(x) \\Sigma_{i=0}^{\\infty} \\frac{s(2^i (\\frac{l + q}{2^p}))}{2^i}\n",
        "\\end{equation}"
      ]
    },
    {
      "cell_type": "markdown",
      "metadata": {
        "id": "XnAOSbQg3WMd"
      },
      "source": [
        "where $s()$ is the triangle wave function."
      ]
    },
    {
      "cell_type": "markdown",
      "metadata": {
        "id": "HuPyXqI73eBy"
      },
      "source": [
        "At origin state, the parameters $\\alpha(x)$, $\\beta(x),p,q$ are:\n",
        "\n",
        "\\begin{equation}\n",
        "\\alpha(x) = 0.75\n",
        "\\end{equation}\n",
        "\\begin{equation}\n",
        "\\beta(x) = -1\n",
        "\\end{equation}\n",
        "\\begin{equation}\n",
        "p = 0\n",
        "\\end{equation}\n",
        "\\begin{equation}\n",
        "q = 0\n",
        "\\end{equation}"
      ]
    },
    {
      "cell_type": "markdown",
      "metadata": {
        "id": "_WHouKD14QzR"
      },
      "source": [
        "Let's plot the fractal!"
      ]
    },
    {
      "cell_type": "code",
      "execution_count": null,
      "metadata": {
        "id": "mP0-KPPksYh2"
      },
      "outputs": [],
      "source": [
        "import numpy as np\n",
        "\n",
        "\n",
        "def s(x):\n",
        "    \"\"\" Returns the distance to the closest integer\n",
        "    >>> ε = 2 ** (-20)\n",
        "    >>> abs(s(3.5) - 0.5) < ε\n",
        "    True\n",
        "    >>> abs(s(1) - 0.0) < ε\n",
        "    True\n",
        "    >>> abs(s(-2.23) - 0.23) < ε\n",
        "    True\n",
        "    >>> abs(s(-9.88) - 0.12) < ε\n",
        "    True\n",
        "    >>> import numpy as np\n",
        "    >>> s(np.arange(1, 3, 0.5))\n",
        "    array([0. , 0.5, 0. , 0.5])\n",
        "    \"\"\"\n",
        "    # x = 0.5*x\n",
        "    d = x - np.floor(x)\n",
        "    return np.minimum(d,1-d)\n",
        "\n",
        "\n",
        "def fn(N):\n",
        "    \"\"\" Returns the Takagi function (N is an approximation parameter)\n",
        "    >>> ε = 2 ** (-20)\n",
        "    >>> f = fn(100)\n",
        "    >>> f(0)\n",
        "    0.0\n",
        "    >>> f(1)\n",
        "    0.0\n",
        "    >>> f(0.5)\n",
        "    0.5\n",
        "    >>> abs(f(0.2) - f(0.8)) < ε\n",
        "    True\n",
        "    >>> abs(2 * f(0.1) - f(0.2) - 0.2) < ε\n",
        "    True\n",
        "    >>> abs(2 * f(0.3) - f(0.6) - 0.6) < ε\n",
        "    True\n",
        "    \"\"\"\n",
        "    def f(x):\n",
        "        return sum(s((1.0*x) *(2) ** n ) * (0.5 ** n) for n in range(N))\n",
        "    return f"
      ]
    },
    {
      "cell_type": "code",
      "execution_count": null,
      "metadata": {
        "id": "UJCRqeyJ4rUJ"
      },
      "outputs": [],
      "source": [
        "def plot_fractal(l_array,R_array):\n",
        "  x = l_array\n",
        "  y = R_array\n",
        "  # fig = plt.figure(figsize=(4, 2), dpi=100)\n",
        "  # gs = fig.add_gridspec(1, 2)\n",
        "  fig = plt.figure()\n",
        "  kernel = gaussian_kde(np.vstack([x, y]))\n",
        "  c = kernel(np.vstack([x, y]))\n",
        "  # %matplotlib inline\n",
        "  plt.scatter(x, y, s=1, c=c, cmap=mpl.cm.viridis, edgecolor='none')\n",
        "  plt.xlabel('life (l)')\n",
        "  plt.ylabel('Score S(l)')\n",
        "  # ax = fig.add_subplot(gs[0, 1])\n",
        "  # ax.scatter(x, y, s=1, c=c, cmap=mpl.cm.viridis, rasterized=True, edgecolor='none')\n",
        "  # ax.set_title('Rasterized')\n",
        "  plt.xticks([0,1])\n",
        "  # plt.yticks([0,1,2])\n",
        "  plt.savefig('image.png', format='png', dpi=1200)\n",
        "  x = np.linspace(0, 1, 1000)\n",
        "\n",
        "  # y_1 = -0.5 + 2*fn(10)(x)\n",
        "  # plt.plot(x, y_1)\n",
        "  y_0_1 = 0.5 - 1*fn(10)(x)\n",
        "  y_0_1 = (0.75 - 0)/gamma - (1/gamma)*fn(15)(x*0.5)\n",
        "  plt.plot(x, y_0_1)\n",
        "  # y_0_2 = 0.70 - 1*fn(10)(x)\n",
        "  # plt.plot(x, y_0_2)\n",
        "\n",
        "  # y_2 = 1.5 - 2*fn(10)(x)\n",
        "  # plt.plot(x, y_2)\n",
        "\n",
        "  plt.show()\n",
        "  return plt\n"
      ]
    },
    {
      "cell_type": "code",
      "execution_count": null,
      "metadata": {
        "colab": {
          "base_uri": "https://localhost:8080/",
          "height": 265
        },
        "id": "7IT_bypt4qLS",
        "outputId": "63a424f3-914e-4020-e658-0bafa5f0fff9"
      },
      "outputs": [
        {
          "data": {
            "image/png": "[encoded data removed]",
            "text/plain": [
              "<Figure size 432x288 with 1 Axes>"
            ]
          },
          "metadata": {},
          "output_type": "display_data"
        }
      ],
      "source": [
        "x = np.linspace(0, 1, 1000)\n",
        "\n",
        "y = 0.75 - 1*fn(15)(x)\n",
        "plt.plot(x, y)\n",
        "plt.show()"
      ]
    },
    {
      "cell_type": "code",
      "execution_count": null,
      "metadata": {
        "colab": {
          "base_uri": "https://localhost:8080/",
          "height": 301
        },
        "id": "Dg1wJA9j4_5b",
        "outputId": "ac20a406-2a13-4739-c045-8f1f11e388cf"
      },
      "outputs": [
        {
          "data": {
            "image/png": "[encoded data removed]",
            "text/plain": [
              "<Figure size 432x288 with 1 Axes>"
            ]
          },
          "metadata": {},
          "output_type": "display_data"
        },
        {
          "data": {
            "text/plain": [
              "<module 'matplotlib.pyplot' from '/usr/local/lib/python3.8/dist-packages/matplotlib/pyplot.py'>"
            ]
          },
          "execution_count": 26,
          "metadata": {},
          "output_type": "execute_result"
        }
      ],
      "source": [
        "plot_fractal(l_array_0,R_array_0) #note that our fractal equation fits exactly with the monte carlo datapoints."
      ]
    },
    {
      "cell_type": "markdown",
      "metadata": {
        "id": "ESw1xQSR6XV_"
      },
      "source": [
        "Adding some offset to the fractal equation to show to seperate curves:"
      ]
    },
    {
      "cell_type": "code",
      "execution_count": null,
      "metadata": {
        "colab": {
          "base_uri": "https://localhost:8080/",
          "height": 297
        },
        "id": "96wm8cSg5R94",
        "outputId": "9920007f-4ce7-4f53-b97a-da48a0c7f3dd"
      },
      "outputs": [
        {
          "data": {
            "image/png": "[encoded data removed]",
            "text/plain": [
              "<Figure size 432x288 with 1 Axes>"
            ]
          },
          "metadata": {},
          "output_type": "display_data"
        },
        {
          "data": {
            "text/plain": [
              "<module 'matplotlib.pyplot' from '/usr/local/lib/python3.8/dist-packages/matplotlib/pyplot.py'>"
            ]
          },
          "execution_count": 36,
          "metadata": {},
          "output_type": "execute_result"
        }
      ],
      "source": [
        "plot_fractal(l_array_0,R_array_0)"
      ]
    },
    {
      "cell_type": "markdown",
      "metadata": {
        "id": "6_0CxAV76qEN"
      },
      "source": [
        "In the above case, $\\alpha(x)$ was updated from 0.75 to 0.5. (Note the difference between the fractal function and the monte carlo datapoints.) This is just for illustrative purposes, just wanted to show that the previous plot contains two different graphs (monte carlo data points and fractal function curve), exactly overlapping each other."
      ]
    },
    {
      "cell_type": "markdown",
      "metadata": {
        "id": "ysi27ZgA7fF9"
      },
      "source": [
        "Now coming back to the Score life function from origin state;\n",
        "\\begin{equation}\n",
        "   S(l,x) = 0.75 - \\Sigma_{i=0}^{\\infty} \\frac{s(2^i l)}{2^i}\n",
        "\\end{equation}"
      ]
    },
    {
      "cell_type": "markdown",
      "metadata": {
        "id": "XBs5Doho79TR"
      },
      "source": [
        "Here, the function: $\\Sigma_{i=0}^{\\infty} \\frac{s(2^i l)}{2^i}$ is called the takagi landsberg function. The global minima of this function occurs at 1/3 and 2/3."
      ]
    },
    {
      "cell_type": "markdown",
      "metadata": {
        "id": "ZoX_X96q8R4c"
      },
      "source": [
        "The optimum cost-to-go, of the optimal trajectory is given by:\n",
        "\n",
        "\\begin{equation}\n",
        "  J^*(x) = Min_{l}(S(l,x) )\n",
        "\\end{equation}\n",
        "\\begin{equation}\n",
        " J^*(x)  =  Min_{l}(0.75 - \\Sigma_{i=0}^{\\infty} \\frac{s(2^i l)}{2^i}))\n",
        "\\end{equation}"
      ]
    },
    {
      "cell_type": "markdown",
      "metadata": {
        "id": "L6HTkHPhBST9"
      },
      "source": [
        "\\begin{equation}\n",
        " J^*(x)  =  3/4-2/3 = 1/12\n",
        "\\end{equation}"
      ]
    },
    {
      "cell_type": "markdown",
      "metadata": {
        "id": "7EgGgGbqBom_"
      },
      "source": [
        "That's a precise estimate for the optimal cost to go! Note that we didn't have to compute an integral in this case, but we exploited properties of fractal functions to compute optimal cost-to-go in closed form!\n",
        "\n",
        "That's it -no approximations, no lower bounds or upper bounds -- exact solution!"
      ]
    },
    {
      "cell_type": "markdown",
      "metadata": {
        "id": "54Gf6C6eFvdD"
      },
      "source": [
        "From the monte carlo plots, one can verify that the optimal value is close to 0.1. (Exact value is 1/12)"
      ]
    },
    {
      "cell_type": "markdown",
      "metadata": {
        "id": "WIfZT_nbTINT"
      },
      "source": [
        "Ok, but that's optimal cost to go from the origin state. But how about other states? Let's think about that case:"
      ]
    },
    {
      "cell_type": "markdown",
      "metadata": {
        "id": "gUQY8wZWTQID"
      },
      "source": []
    },
    {
      "cell_type": "markdown",
      "metadata": {
        "id": "rV-Tr6oR07fl"
      },
      "source": [
        "Consider the neighbouring states:\n",
        "\n",
        "x_0 = f(x,u=0)"
      ]
    },
    {
      "cell_type": "code",
      "execution_count": null,
      "metadata": {
        "colab": {
          "base_uri": "https://localhost:8080/"
        },
        "id": "0lkD6Umf1MCV",
        "outputId": "12ae96ba-5ad9-4c14-cfa7-26c3563ba5fb"
      },
      "outputs": [
        {
          "name": "stderr",
          "output_type": "stream",
          "text": [
            "/usr/local/lib/python3.8/dist-packages/gym/envs/registration.py:593: UserWarning: \u001b[33mWARN: The environment CartPole-v0 is out of date. You should consider upgrading to version `v1`.\u001b[0m\n",
            "  logger.warn(\n",
            "/usr/local/lib/python3.8/dist-packages/gym/core.py:317: DeprecationWarning: \u001b[33mWARN: Initializing wrapper in old step API which returns one bool instead of two. It is recommended to set `new_step_api=True` to use new step API. This will be the default behaviour in future.\u001b[0m\n",
            "  deprecation(\n",
            "/usr/local/lib/python3.8/dist-packages/gym/wrappers/step_api_compatibility.py:39: DeprecationWarning: \u001b[33mWARN: Initializing environment in old step API which returns one bool instead of two. It is recommended to set `new_step_api=True` to use new step API. This will be the default behaviour in future.\u001b[0m\n",
            "  deprecation(\n"
          ]
        }
      ],
      "source": [
        "env2 = gym.make(\"CartPole-v0\")\n",
        "env2.reset()\n",
        "env2.state = env2.unwrapped.state = initial_state\n",
        "action = 0\n",
        "nxt_state_0, reward, done, info = env2.step(action)"
      ]
    },
    {
      "cell_type": "code",
      "execution_count": null,
      "metadata": {
        "id": "0KmNn1MT12il"
      },
      "outputs": [],
      "source": [
        "g = stage_cost(nxt_state_0,0, Q)"
      ]
    },
    {
      "cell_type": "code",
      "execution_count": null,
      "metadata": {
        "colab": {
          "base_uri": "https://localhost:8080/",
          "height": 279
        },
        "id": "yct9aJdX6jmA",
        "outputId": "1641e7ac-3ca3-40e5-b5ca-781aa8506974"
      },
      "outputs": [
        {
          "data": {
            "image/png": "[encoded data removed]",
            "text/plain": [
              "<Figure size 432x288 with 1 Axes>"
            ]
          },
          "metadata": {},
          "output_type": "display_data"
        }
      ],
      "source": [
        "l_array_1, R_array_1 = monte_carlo(nxt_state_0,Q,N_horizon,N_episodes,gamma,terminate_episode_whn_done = False)"
      ]
    },
    {
      "cell_type": "markdown",
      "metadata": {
        "id": "ve09OZPG1wxL"
      },
      "source": [
        "%plot fractal as per equation:"
      ]
    },
    {
      "cell_type": "code",
      "execution_count": null,
      "metadata": {
        "colab": {
          "base_uri": "https://localhost:8080/",
          "height": 265
        },
        "id": "LDCWLaYf1bea",
        "outputId": "bae8675d-8754-4418-a787-41238ba134cc"
      },
      "outputs": [
        {
          "data": {
            "image/png": "[encoded data removed]",
            "text/plain": [
              "<Figure size 432x288 with 1 Axes>"
            ]
          },
          "metadata": {},
          "output_type": "display_data"
        }
      ],
      "source": [
        "x = np.linspace(0, 1, 1000)\n",
        "\n",
        "y = (0.75 - 0)/gamma - (1/gamma)*fn(15)(x*0.5)\n",
        "plt.plot(x, y)\n",
        "plt.show()"
      ]
    },
    {
      "cell_type": "code",
      "execution_count": null,
      "metadata": {
        "colab": {
          "base_uri": "https://localhost:8080/",
          "height": 297
        },
        "id": "u43ghnWR1XJB",
        "outputId": "41ec56c1-e6b1-4fe5-c780-5128e456778a"
      },
      "outputs": [
        {
          "data": {
            "image/png": "[encoded data removed]",
            "text/plain": [
              "<Figure size 432x288 with 1 Axes>"
            ]
          },
          "metadata": {},
          "output_type": "display_data"
        },
        {
          "data": {
            "text/plain": [
              "<module 'matplotlib.pyplot' from '/usr/local/lib/python3.8/dist-packages/matplotlib/pyplot.py'>"
            ]
          },
          "execution_count": 44,
          "metadata": {},
          "output_type": "execute_result"
        }
      ],
      "source": [
        "plot_fractal(l_array_1,R_array_1)"
      ]
    },
    {
      "cell_type": "code",
      "execution_count": null,
      "metadata": {
        "id": "e3lWUi3r27Mf"
      },
      "outputs": [],
      "source": []
    },
    {
      "cell_type": "markdown",
      "metadata": {
        "id": "VBoYYekngUVb"
      },
      "source": [
        "Computation of Faber Schauder coefficients:\n",
        "The score life function, when continous is a fractal function, and fractals can be represented in faber schauder basis. For a given Score-life function, to compute corresponding faber schauder coefficients, we need to perform the following computations:"
      ]
    },
    {
      "cell_type": "markdown",
      "metadata": {
        "id": "X72hdueKhKLx"
      },
      "source": [
        "Thescore-life function in the faber schauder basis as:\n",
        "\n",
        "\\begin{equation}\n",
        "    S(l,x) = \\alpha_{0}(x) + \\alpha_{1}(x) l + \\Sigma_{j = 0}^{\\infty} \\Sigma_{i=0}^{2^j - 1} \\beta_{i,j}(x)e_{i,j}(l)\n",
        "\\end{equation}\n",
        "\n",
        "Where, $e_{i,j}(l)$ are the faber schauder basis functions given by:\n",
        "\\begin{equation}\n",
        "    e_{i,j}(l) = 2^j(|l - \\frac{i}{2^j}| + |l -\\frac{i+1}{2^j}| - |2l - \\frac{2i + 1}{2^{j+1}}|)\n",
        "\\end{equation}\n",
        "The coefficients of the Faber Schauder expansion are given by:\n",
        "\\begin{equation}\n",
        "    \\alpha_0(x) = S(l=0,x)\n",
        "\\end{equation}\n",
        "\\begin{equation}\n",
        "    \\alpha_0(x) = S(l=0,x)\n",
        "\\end{equation}\n",
        "\\begin{equation}\n",
        "    \\alpha_1(x) = S(l=1,x) - S(l=0,x)\n",
        "\\end{equation}\n",
        "\\begin{equation}\n",
        "    \\beta_{i,j}(x) = S(l=\\frac{2i + 1}{2^{j+1}},x) - \\frac{1}{2}(S(l=\\frac{i}{2^j},x)+ S(l = \\frac{i+1}{2^j},x))\n",
        "\\end{equation}"
      ]
    },
    {
      "cell_type": "code",
      "execution_count": null,
      "metadata": {
        "id": "W3tNsBMGgiRC"
      },
      "outputs": [],
      "source": [
        "def S(l,X, gamma,Q,approximation_index):\n",
        "  env = gym.make(\"CartPole-v0\")\n",
        "  env.reset()\n",
        "  R = (X@Q@X.T)\n",
        "  action_sequence = fraction_to_binary(l,num_bits = approximation_index)\n",
        "  print(action_sequence)\n",
        "  env.state = env.unwrapped.state = X\n",
        "  for i in range(len(action_sequence)-1):\n",
        "    u_i = int(action_sequence[i+1])\n",
        "    obs, reward, done, info = env.step(u_i)\n",
        "    reward = obs@Q@obs\n",
        "    R = (gamma**(i+1))*reward + R\n",
        "  env.close()\n",
        "  return R\n"
      ]
    },
    {
      "cell_type": "code",
      "execution_count": null,
      "metadata": {
        "colab": {
          "base_uri": "https://localhost:8080/"
        },
        "id": "OwTB7d7duCw9",
        "outputId": "8add87e4-b82e-4e9f-e742-dc8be61acdd6"
      },
      "outputs": [
        {
          "data": {
            "text/plain": [
              "0"
            ]
          },
          "execution_count": 147,
          "metadata": {},
          "output_type": "execute_result"
        }
      ],
      "source": [
        "X@Q@X.T"
      ]
    },
    {
      "cell_type": "code",
      "execution_count": null,
      "metadata": {
        "colab": {
          "base_uri": "https://localhost:8080/"
        },
        "id": "PuO7Gr-As95D",
        "outputId": "ea7f4b4d-7a16-41d3-ed7a-d8152dcb9190"
      },
      "outputs": [
        {
          "name": "stdout",
          "output_type": "stream",
          "text": [
            ".00000000000000000000000000000000000000000000000000000000000000000000000000000000000000000000000000000000000000000000000000000000000000000000000000000000000000000000000000000000000000000000000000000000000000000000000000000000000000000000000000000000000000000000000000000000000000000000000000000000000000000000000000000000000000000000000000000000000000000000000000000000000000000000000000000000000000000000000000000000000000000000000000000000000000000000000000000000000000000000000000000000000000000000000000000000000000000000000000000000000000000000000000000000000000000000000000000000000000000000000000000000000000000000000000000000000000000000000000000000000000000000000000000000000000000000000000000000000000000000000000000000000000000000000000000000000000000000000000000000000000000000000000000000000000000000000000000000000000000000000000000000000000000000000000000000000000000000000000000000000000000000000000000000000000000000000000000000000000000000000000000000000000000000000000000000000000000000000000000000000000000000000000000000000000000000000000000000000000000000000000000000000000000000000000000000000000000000000000000000000000000000000000000000000000000000000000000000000000000000000000000000000000000000000000000000000000000000000000000000000000000000000000000000000000000000000000000000000000000000000000000000000000000000000000000000000000000000000000000000000000000000000000000000000000000000000000000000000000000000000000000000000000000000000000000000000000000000000000000000000\n",
            "0.7583670629548133\n"
          ]
        }
      ],
      "source": [
        "l = 0\n",
        "X =np.array([0,0,0,0])\n",
        "approximation_index = 1500\n",
        "gamma = 0.5\n",
        "val = S(l,X, gamma,Q,approximation_index)\n",
        "print(val)"
      ]
    },
    {
      "cell_type": "code",
      "execution_count": null,
      "metadata": {
        "id": "OLRKIeURwS06"
      },
      "outputs": [],
      "source": [
        "def compute_beta_ij(i,j,X,gamma,Q,approximation_index):\n",
        "  l_1 = (2*i + 1)/(2**(j+1))\n",
        "  l_2 = i/(2**j)\n",
        "  l_3 = (i+1)/(2**j)\n",
        "  beta_ij = S(l_1,X, gamma,Q,approximation_index) - 0.5*(S(l_2,X, gamma,Q,approximation_index)+ S(l_3,X, gamma,Q,approximation_index))\n",
        "  return beta_ij"
      ]
    },
    {
      "cell_type": "code",
      "execution_count": null,
      "metadata": {
        "colab": {
          "base_uri": "https://localhost:8080/"
        },
        "id": "ebJzlQk2xOtc",
        "outputId": "22c0a8f1-e4f8-4251-e56c-2ab52f36c162"
      },
      "outputs": [
        {
          "name": "stdout",
          "output_type": "stream",
          "text": [
            ".0010000000000000000000000000000000000000000000000000000000000000000000000000000000000000000000000000000000000000000000000000000000000000000000000000000000000000000000000000000000000000000000000000000000000000000000000000000000000000000000000000000000000000000000000000000000000000000000000000000000000000000000000000000000000000000000000000000000000000000000000000000000000000000000000000000000000000000000000000000000000000000000000000000000000000000000000000000000000000000000000000000000000000000000000000000000000000000000000000000000000000000000000000000000000000000000000000000000000000000000000000000000000000000000000000000000000000000000000000000000000000000000000000000000000000000000000000000000000000000000000000000000000000000000000000000000000000000000000000000000000000000000000000000000000000000000000000000000000000000000000000000000000000000000000000000000000000000000000000000000000000000000000000000000000000000000000000000000000000000000000000000000000000000000000000000000000000\n",
            ".000000000000000000000000000000000000000000000000000000000000000000000000000000000000000000000000000000000000000000000000000000000000000000000000000000000000000000000000000000000000000000000000000000000000000000000000000000000000000000000000000000000000000000000000000000000000000000000000000000000000000000000000000000000000000000000000000000000000000000000000000000000000000000000000000000000000000000000000000000000000000000000000000000000000000000000000000000000000000000000000000000000000000000000000000000000000000000000000000000000000000000000000000000000000000000000000000000000000000000000000000000000000000000000000000000000000000000000000000000000000000000000000000000000000000000000000000000000000000000000000000000000000000000000000000000000000000000000000000000000000000000000000000000000000000000000000000000000000000000000000000000000000000000000000000000000000000000000000000000000000000000000000000000000000000000000000000000000000000000000000000000000000000000000000000000000000000\n",
            ".0100000000000000000000000000000000000000000000000000000000000000000000000000000000000000000000000000000000000000000000000000000000000000000000000000000000000000000000000000000000000000000000000000000000000000000000000000000000000000000000000000000000000000000000000000000000000000000000000000000000000000000000000000000000000000000000000000000000000000000000000000000000000000000000000000000000000000000000000000000000000000000000000000000000000000000000000000000000000000000000000000000000000000000000000000000000000000000000000000000000000000000000000000000000000000000000000000000000000000000000000000000000000000000000000000000000000000000000000000000000000000000000000000000000000000000000000000000000000000000000000000000000000000000000000000000000000000000000000000000000000000000000000000000000000000000000000000000000000000000000000000000000000000000000000000000000000000000000000000000000000000000000000000000000000000000000000000000000000000000000000000000000000000000000000000000000000000\n",
            "-0.12642414577199457\n"
          ]
        }
      ],
      "source": [
        "i = 0\n",
        "j = 2\n",
        "# approximation_index = 1000\n",
        "print(compute_beta_ij(i,j,X,gamma,Q,approximation_index))"
      ]
    },
    {
      "cell_type": "code",
      "execution_count": null,
      "metadata": {
        "id": "rbtegFc-jpdG"
      },
      "outputs": [],
      "source": [
        "def fraction_to_binary(fraction, num_bits=200):\n",
        "    if fraction == 0:\n",
        "        return '.' + '0' * (num_bits - 1)\n",
        "    elif fraction == 1:\n",
        "        return  '.' + '1' * num_bits\n",
        "    else:\n",
        "        binary = ''\n",
        "        # Check if the fraction is less than 1\n",
        "        if fraction < 1:\n",
        "            binary += '.'\n",
        "        for i in range(num_bits):\n",
        "            fraction *= 2\n",
        "            if fraction >= 1:\n",
        "                binary += '1'\n",
        "                fraction -= 1\n",
        "            else:\n",
        "                binary += '0'\n",
        "        return binary\n"
      ]
    },
    {
      "cell_type": "code",
      "execution_count": null,
      "metadata": {
        "colab": {
          "base_uri": "https://localhost:8080/"
        },
        "id": "fJSqNrhsiLb0",
        "outputId": "6b1be553-a65b-4900-b4b3-ee338fcbec90"
      },
      "outputs": [
        {
          "name": "stdout",
          "output_type": "stream",
          "text": [
            ".11111111111111111111111111010101000011001110001000111000000000000000000000000000000000000000000000000000000000000000000000000000000000000000000000000000000000000000000000000000000000000000000000000000000000000000000000000000000000000000000000000000000000000000000000000000000000000000000000000000000000000000000000000000000000000000000000000000000000000000000000000000000000000000000000000000000000000000000000000000000000000000000000000000000000000000000000000000000000000000000000000000000000000000000000000000000000000000000000000000000000000000000000000000000000000000000000000000000000000000000000000000000000000000000000000000000000000000000000000000000000000000000000000000000000000000000000000000000000000000000000000000000000000000000000000000000000000000000000000000000000000000000000000000000000000000000000000000000000000000000000000000000000000000000000000000000000000000000000000000000000000000000000000000000000000000000000000000000000000000000000000000000000000000000000000000000000000000000000000000000000000000000000000000000000000000000000000000000000000000000000000000000000000000000000000000000000000000000000000000000000000000000000000000000000000000000000000000000000000000000000000000000000000000000000000000000000000000000000000000000000000000000000000000000000000000000000000000000000000000000000000000000000000000000000000000000000000000000000000000000000000000000000000000000000000000000000000000000000000000000000000000000000000000000000000000000000000000000000000000000000000000000000000000000000000000000000000000000000000000000000000000000000000000000000000000000000000000000000000000000000000000000000000000000000000000000000000000000000000000000000000000000000000000000000000000000000000000000000000000000000000000000000000000000000000000000000000000000000000000000000000000000000000000000000000000000000000000000000000000000000000000000000000000000000000000000000000000000000000000000000000000000000000000000000000000000000000000000000000000000000000000000000000000\n"
          ]
        }
      ],
      "source": [
        "binary = fraction_to_binary(0.99999999, num_bits=2000)\n",
        "print(binary)\n"
      ]
    },
    {
      "cell_type": "code",
      "execution_count": null,
      "metadata": {
        "colab": {
          "base_uri": "https://localhost:8080/"
        },
        "id": "OyXQ1RuIiSA0",
        "outputId": "2a713967-b835-4297-f9b3-e2f2385aa17b"
      },
      "outputs": [
        {
          "data": {
            "text/plain": [
              "2001"
            ]
          },
          "execution_count": 90,
          "metadata": {},
          "output_type": "execute_result"
        }
      ],
      "source": [
        "len(binary)"
      ]
    },
    {
      "cell_type": "code",
      "execution_count": null,
      "metadata": {
        "colab": {
          "base_uri": "https://localhost:8080/"
        },
        "id": "wHF9fgxVi5OH",
        "outputId": "bd427103-c345-4c43-9690-df9c18c2cc85"
      },
      "outputs": [
        {
          "data": {
            "text/plain": [
              "0"
            ]
          },
          "execution_count": 63,
          "metadata": {},
          "output_type": "execute_result"
        }
      ],
      "source": [
        "int(binary[5])"
      ]
    },
    {
      "cell_type": "code",
      "execution_count": null,
      "metadata": {
        "id": "W2dmwMxmi-T6"
      },
      "outputs": [],
      "source": []
    }
  ],
  "metadata": {
    "accelerator": "GPU",
    "colab": {
      "provenance": []
    },
    "kernelspec": {
      "display_name": "Python 3",
      "name": "python3"
    },
    "language_info": {
      "name": "python"
    }
  },
  "nbformat": 4,
  "nbformat_minor": 0
}